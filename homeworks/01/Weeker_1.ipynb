{
 "cells": [
  {
   "cell_type": "markdown",
   "metadata": {},
   "source": [
    "# Недельник 1\n",
    "\n",
    "Как было сказано на лекции, на текущей неделе вы получаете ежедневные задания. Система оценки следующая: в первый день(четверг) вы делаете первый pull-request в ветку homework_01. Потом каждый день делаете коммит, он будет автоматически привязывать к pull-request. Если задачка не сделана в течении 2-х дней она сгорает. (Можно четверг сделать в четверг и пятницу)"
   ]
  },
  {
   "cell_type": "markdown",
   "metadata": {},
   "source": [
    "# Четверг"
   ]
  },
  {
   "cell_type": "code",
   "execution_count": 46,
   "metadata": {},
   "outputs": [],
   "source": [
    "#TODO Сделайте калькулятор произвольных выражений, операции следующие: +, -, /, ^, *. скобок нет\n",
    "def calculate(input_str):\n",
    "    new_str =''\n",
    "    for i in input_str:\n",
    "        if i=='^':\n",
    "            i=\"**\"\n",
    "        new_str=new_str+i\n",
    "    return eval(new_str)"
   ]
  },
  {
   "cell_type": "code",
   "execution_count": 47,
   "metadata": {},
   "outputs": [],
   "source": [
    "assert calculate(\"2 + 2 * 2\") == 6\n",
    "assert calculate(\"345 / 5 * 21\") == 1449.\n",
    "assert calculate(\"3^3 - 10 + 41 * 3\") == 140\n",
    "assert calculate(\"42 / 7 * 32\") == 192.0\n",
    "assert calculate(\"69 - 7^2 \") ==  20\n",
    "assert calculate(\"5*6 - 4/2 \") ==  28."
   ]
  },
  {
   "cell_type": "code",
   "execution_count": 50,
   "metadata": {},
   "outputs": [],
   "source": [
    "#TODO метод разворачивающий строку HE2LO -> HELLO (число означает сколько раз встречается буква)\n",
    "def transform_string(inp_string):\n",
    "    new_str =''\n",
    "    global k\n",
    "    global l\n",
    "    l=0\n",
    "    for i in inp_string :\n",
    "        if (l==0):\n",
    "            if (i!='1') and (i!='2') and (i!='3') and (i!='4') and (i!='5') and (i!='6') and (i!='7') and (i!='8') and (i!='9') and (i!='0'):\n",
    "                new_str=new_str+i\n",
    "            else : \n",
    "                l=1\n",
    "                k=int(i)\n",
    "        else :\n",
    "            if (i=='1') or (i=='2') or (i=='3') or (i=='4') or (i=='5') or (i=='6') or (i=='7') or (i=='8') or (i=='9') or (i=='0'):\n",
    "                k=k*10+int(i)\n",
    "            else :\n",
    "                while (k>0) :\n",
    "                    new_str=new_str+i\n",
    "                    k=k-1\n",
    "                l=0\n",
    "    return new_str\n"
   ]
  },
  {
   "cell_type": "markdown",
   "metadata": {},
   "source": [
    "# Пятница"
   ]
  },
  {
   "cell_type": "code",
   "execution_count": 54,
   "metadata": {},
   "outputs": [],
   "source": [
    "assert transform_string(\"HE2LO\") == \"HELLO\"\n",
    "assert transform_string(\"HI\") == \"HI\"\n",
    "assert transform_string(\"пр12ивет\") == \"приииииииииииивет\"\n",
    "assert transform_string(\"2л3у78н65тик\") == 'ллуууннннннннннннннннннннннннннннннннннннннннннннннннннннннннннннннннннннннннннннннтттттттттттттттттттттттттттттттттттттттттттттттттттттттттттттттттик'\n",
    "assert transform_string(\"пи3тон\") == \"питттон\"\n",
    "assert transform_string(\"l5ove\") == \"looooove\"\n",
    "#TODO Дописать 2 своих теста"
   ]
  },
  {
   "cell_type": "markdown",
   "metadata": {},
   "source": [
    "# Суббота"
   ]
  },
  {
   "cell_type": "code",
   "execution_count": 103,
   "metadata": {},
   "outputs": [],
   "source": [
    "#TODO метод выводящий статистику по строке, кол-во гласных, согласных, цифр, строчных букв, прописных букв\n",
    "def string_stat(inp_string):\n",
    "    s=inp_string\n",
    "    global k\n",
    "    k=0\n",
    "    k5=0\n",
    "    k1=0\n",
    "    k2=0\n",
    "    k3=0\n",
    "    k4=0\n",
    "    for i in s :\n",
    "        if (s[k].isdigit() == True) :\n",
    "            k3=k3+1\n",
    "        if (s[k].isalpha() == True) :\n",
    "            if (s[k].islower() == True) :\n",
    "                k4=k4+1\n",
    "            if (s[k].isupper() == True) :\n",
    "                k5=k5+1\n",
    "            if (s[k]=='а') or (s[k]=='е') or (s[k]=='ё') or (s[k]=='и') or (s[k]=='о') or (s[k]=='у') or (s[k]=='ю') or(s[k]=='я') or (s[k]=='э') or(s[k]=='ы') or (s[k]=='А') or (s[k]=='Е') or (s[k]=='Ё') or (s[k]=='И') or (s[k]=='О') or (s[k]=='У') or (s[k]=='Ю') or(s[k]=='Я')or (s[k]=='Э') or(s[k]=='Ы'):\n",
    "                k1=k1+1\n",
    "            else :\n",
    "                k2=k2+1\n",
    "        k=k+1\n",
    "    a=(k1,k2,k3,k4,k5)\n",
    "    return a"
   ]
  },
  {
   "cell_type": "code",
   "execution_count": 104,
   "metadata": {},
   "outputs": [],
   "source": [
    "assert string_stat(\"Тевирп\") == (2, 4, 0, 5, 1)\n",
    "assert string_stat(\"КоРоВа4\") == (3, 3, 1, 3, 3)\n",
    "assert string_stat(\"Б16501\") == (0, 1, 5, 0, 1)\n",
    "assert string_stat(\"ПРИв19\") == (1, 3, 2, 1, 3)\n",
    "\n",
    "#TODO 2 своих теста"
   ]
  },
  {
   "cell_type": "markdown",
   "metadata": {},
   "source": [
    "# Воскресенье - ВЫХОДНОЙ"
   ]
  },
  {
   "cell_type": "markdown",
   "metadata": {},
   "source": [
    "# Понедельник"
   ]
  },
  {
   "cell_type": "code",
   "execution_count": 226,
   "metadata": {},
   "outputs": [],
   "source": [
    "#TODO инвертируйте словарь из k - [v_1, v_2] в v_1 [k_1]\n",
    "def dict_inverter(input_dict):\n",
    "    dict=input_dict\n",
    "    new_dict = {}\n",
    "    values = dict.values()\n",
    "    keys = []\n",
    "    for i in values:\n",
    "        if type(i) is type([]):\n",
    "            keys.extend(i)\n",
    "        else:\n",
    "            keys.append(i)\n",
    "    for i in keys:\n",
    "        value = []\n",
    "        for j in dict.keys():\n",
    "            if type(dict.get(j)) is type([]):\n",
    "                if i in dict.get(j):\n",
    "                    value.append(j)\n",
    "            else:\n",
    "                if i == dict.get(j):\n",
    "                    value.append(j)\n",
    "        if len(value) == 1:\n",
    "            value = value[0]\n",
    "        new_dict.update(dict.fromkeys([i],value))\n",
    "    return (new_dict)\n"
   ]
  },
  {
   "cell_type": "code",
   "execution_count": 227,
   "metadata": {},
   "outputs": [],
   "source": [
    "assert dict_inverter({\"mango\" :[\"eatable\"], \"pillow\": [\"sleepable\"]}) == {\"eatable\": \"mango\", \"sleepable\": \"pillow\"}\n",
    "assert dict_inverter({\"mango\" :[\"eatable\", \"readable\"]}) == {\"readable\":\"mango\", \"eatable\":\"mango\"}\n",
    "assert dict_inverter({\"mango\" : [\"eatable\"], \"banana\": [\"eatable\"]}) == {\"eatable\": [\"mango\", \"banana\"]}\n",
    "assert dict_inverter({\"mango\" :[\"eatable\", \"readable\",\"ddddd\"]}) == {\"readable\":\"mango\", \"eatable\":\"mango\", \"ddddd\":\"mango\"}\n",
    "\n",
    "#TODO Один свой тест"
   ]
  },
  {
   "cell_type": "markdown",
   "metadata": {},
   "source": [
    "# Вторник"
   ]
  },
  {
   "cell_type": "code",
   "execution_count": 214,
   "metadata": {},
   "outputs": [],
   "source": [
    "#TODO вывести уникальные элементы массива\n",
    "def uniq_array(input_arr):\n",
    "    a=[]\n",
    "    for i in input_arr :\n",
    "        if (a.count(i)==0) :\n",
    "            a.append(i)\n",
    "     \n",
    "    return a"
   ]
  },
  {
   "cell_type": "code",
   "execution_count": 127,
   "metadata": {},
   "outputs": [],
   "source": [
    "assert uniq_array([0]) == [0]\n",
    "assert uniq_array([0, 1, 2, 3]) == [0, 1, 2, 3]\n",
    "assert uniq_array([\"f\", \"t\", \"f\"]) == ['f', 't']\n",
    "assert uniq_array(['rt', 'rt']) == ['rt']"
   ]
  },
  {
   "cell_type": "code",
   "execution_count": null,
   "metadata": {},
   "outputs": [],
   "source": []
  },
  {
   "cell_type": "code",
   "execution_count": null,
   "metadata": {},
   "outputs": [],
   "source": []
  }
 ],
 "metadata": {
  "kernelspec": {
   "display_name": "Python 3",
   "language": "python",
   "name": "python3"
  },
  "language_info": {
   "codemirror_mode": {
    "name": "ipython",
    "version": 3
   },
   "file_extension": ".py",
   "mimetype": "text/x-python",
   "name": "python",
   "nbconvert_exporter": "python",
   "pygments_lexer": "ipython3",
   "version": "3.6.5"
  }
 },
 "nbformat": 4,
 "nbformat_minor": 2
}
